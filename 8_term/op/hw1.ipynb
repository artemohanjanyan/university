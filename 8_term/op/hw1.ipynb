{
 "cells": [
  {
   "cell_type": "markdown",
   "metadata": {},
   "source": [
    "$$\n",
    "f(x)=\\exp{\\sqrt{x}}+k\\exp(-kx)\\\\\n",
    "k=2+0.1 \\cdot N\\\\\n",
    "N=107 \\text{ (вариант})\n",
    "$$"
   ]
  },
  {
   "cell_type": "markdown",
   "metadata": {},
   "source": [
    "$$\n",
    "f'(x_\\min) = \\frac{1}{2\\sqrt{x_\\min}}\\exp\\sqrt{x_\\min} - k^2 \\exp(-kx_\\min) = 0\\\\\n",
    "x_\\min \\approx 0.367695\\\\\n",
    "f(x_\\min) \\approx 1.95284\n",
    "$$"
   ]
  },
  {
   "cell_type": "code",
   "execution_count": 1,
   "metadata": {
    "collapsed": true
   },
   "outputs": [],
   "source": [
    "from math import exp, sqrt\n",
    "import numpy as np\n",
    "n = 107\n",
    "k = 2 + 0.1 * n\n",
    "def f(x):\n",
    "    return exp(sqrt(x)) + k * exp(-k * x)\n",
    "\n",
    "a = 0\n",
    "b = 5"
   ]
  },
  {
   "cell_type": "code",
   "execution_count": 2,
   "metadata": {
    "collapsed": false
   },
   "outputs": [
    {
     "data": {
      "image/png": "[encoded data removed]",
      "text/plain": [
       "<matplotlib.figure.Figure at 0x7f90ec6d85c0>"
      ]
     },
     "metadata": {},
     "output_type": "display_data"
    }
   ],
   "source": [
    "import matplotlib.pyplot as plt\n",
    "%matplotlib inline\n",
    "\n",
    "X = np.linspace(a, b, 300)\n",
    "plt.figure(figsize=(10, 5))\n",
    "plt.plot(X, np.vectorize(f)(X))\n",
    "plt.show()"
   ]
  },
  {
   "cell_type": "code",
   "execution_count": 3,
   "metadata": {
    "collapsed": false
   },
   "outputs": [],
   "source": [
    "class Ans:\n",
    "    def __init__(self):\n",
    "        self.used = False\n",
    "        self.count = 0\n",
    "        self.minArg = 0\n",
    "        self.minVal = 0\n",
    "        \n",
    "    def update(self, arg):\n",
    "        self.count += 1\n",
    "        val = f(arg)\n",
    "        if not self.used:\n",
    "            self.used = True\n",
    "            self.minArg = arg\n",
    "            self.minVal = val\n",
    "        elif val < self.minVal:\n",
    "            self.minArg = arg\n",
    "            self.minVal = val\n",
    "        return val\n",
    "        \n",
    "    def __repr__(self):\n",
    "        if self.used:\n",
    "            return str(\"x_min = {}, f(x_min) = {}, count = {}\".format(self.minArg, self.minVal, self.count))\n",
    "        else:\n",
    "            return \"undefined\""
   ]
  },
  {
   "cell_type": "markdown",
   "metadata": {},
   "source": [
    "## Сканирование"
   ]
  },
  {
   "cell_type": "code",
   "execution_count": 4,
   "metadata": {
    "collapsed": true
   },
   "outputs": [],
   "source": [
    "def scan(a, b, step_n):\n",
    "    ans = Ans()\n",
    "    ans.update(b)\n",
    "    for step in range(step_n):\n",
    "        ans.update(a + step * (b - a) / step_n)\n",
    "    return ans"
   ]
  },
  {
   "cell_type": "code",
   "execution_count": 5,
   "metadata": {
    "collapsed": false
   },
   "outputs": [
    {
     "data": {
      "text/plain": [
       "x_min = 0.35, f(x_min) = 1.9559527696757808, count = 101"
      ]
     },
     "execution_count": 5,
     "metadata": {},
     "output_type": "execute_result"
    }
   ],
   "source": [
    "scan(0, 5, 100)"
   ]
  },
  {
   "cell_type": "markdown",
   "metadata": {},
   "source": [
    "## Дихотомия"
   ]
  },
  {
   "cell_type": "code",
   "execution_count": 6,
   "metadata": {
    "collapsed": true
   },
   "outputs": [],
   "source": [
    "def binSearch(a, b, delta, eps):\n",
    "    ans = Ans()\n",
    "    while (b - a) / 2 > eps:\n",
    "        c = (a + b) / 2 - delta / 2\n",
    "        d = (a + b) / 2 + delta / 2\n",
    "        if ans.update(c) <= ans.update(d):\n",
    "            b = d\n",
    "        else:\n",
    "            a = c\n",
    "    ans.update((a + b) / 2)\n",
    "    return ans"
   ]
  },
  {
   "cell_type": "code",
   "execution_count": 7,
   "metadata": {
    "collapsed": false
   },
   "outputs": [
    {
     "data": {
      "text/plain": [
       "x_min = 0.3676947103390098, f(x_min) = 1.9528388858306518, count = 45"
      ]
     },
     "execution_count": 7,
     "metadata": {},
     "output_type": "execute_result"
    }
   ],
   "source": [
    "binSearch(0, 5, 10e-7 / 2, 10e-7)"
   ]
  },
  {
   "cell_type": "markdown",
   "metadata": {},
   "source": [
    "## Золотое сечение"
   ]
  },
  {
   "cell_type": "code",
   "execution_count": 8,
   "metadata": {
    "collapsed": true
   },
   "outputs": [],
   "source": [
    "def golden(a, b, eps):\n",
    "    ans = Ans()\n",
    "    c = None\n",
    "    d = None\n",
    "    f_c = None\n",
    "    f_d = None\n",
    "    while (b - a) / 2 > eps:\n",
    "        if c is None:\n",
    "            c = (3 - sqrt(5)) / 2 * (b - a) + a\n",
    "            f_c = ans.update(c)\n",
    "        if d is None:\n",
    "            d = (sqrt(5) - 1) / 2 * (b - a) + a\n",
    "            f_d = ans.update(d)\n",
    "        if f_c <= f_d:\n",
    "            b = d\n",
    "            d, f_d = c, f_c\n",
    "            c = None\n",
    "        else:\n",
    "            a = c\n",
    "            c, f_c = d, f_d\n",
    "            d = None\n",
    "    ans.update((a + b) / 2)\n",
    "    return ans"
   ]
  },
  {
   "cell_type": "code",
   "execution_count": 9,
   "metadata": {
    "collapsed": false
   },
   "outputs": [
    {
     "data": {
      "text/plain": [
       "x_min = 0.3676946377681959, f(x_min) = 1.9528388858305743, count = 33"
      ]
     },
     "execution_count": 9,
     "metadata": {},
     "output_type": "execute_result"
    }
   ],
   "source": [
    "golden(0, 5, 10e-7)"
   ]
  },
  {
   "cell_type": "markdown",
   "metadata": {},
   "source": [
    "## Фибоначчи"
   ]
  },
  {
   "cell_type": "code",
   "execution_count": 10,
   "metadata": {
    "collapsed": true
   },
   "outputs": [],
   "source": [
    "def fib(a, b, eps):\n",
    "    n = 0\n",
    "    fibs = {1: 1, 2: 1}\n",
    "    while fibs[n + 2] < (b - a) / eps:\n",
    "        n += 1\n",
    "        fibs[n + 2] = fibs[n] + fibs[n + 1]\n",
    "    print(n)\n",
    "    \n",
    "    ans = Ans()\n",
    "    c = None\n",
    "    d = None\n",
    "    f_c = None\n",
    "    f_d = None\n",
    "    for i in range(1, n + 1):\n",
    "        if c is None:\n",
    "            c = a + (b - a) * fibs[n + 1 - i] / fibs[n + 3 - i]\n",
    "            f_c = ans.update(c)\n",
    "        if d is None:\n",
    "            d = a + (b - a) * fibs[n + 2 - i] / fibs[n + 3 - i]\n",
    "            f_d = ans.update(d)\n",
    "        if f_c <= f_d:\n",
    "            b = d\n",
    "            d, f_d = c, f_c\n",
    "            c = None\n",
    "        else:\n",
    "            a = c\n",
    "            c, f_c = d, f_d\n",
    "            d = None\n",
    "    ans.update((a + b) / 2)\n",
    "    return ans"
   ]
  },
  {
   "cell_type": "code",
   "execution_count": 11,
   "metadata": {
    "collapsed": false
   },
   "outputs": [
    {
     "name": "stdout",
     "output_type": "stream",
     "text": [
      "32\n"
     ]
    },
    {
     "data": {
      "text/plain": [
       "x_min = 0.3676944677318698, f(x_min) = 1.9528388858307721, count = 34"
      ]
     },
     "execution_count": 11,
     "metadata": {},
     "output_type": "execute_result"
    }
   ],
   "source": [
    "fib(0, 5, 10e-7)"
   ]
  }
 ],
 "metadata": {
  "kernelspec": {
   "display_name": "Python 3",
   "language": "python",
   "name": "python3"
  },
  "language_info": {
   "codemirror_mode": {
    "name": "ipython",
    "version": 3
   },
   "file_extension": ".py",
   "mimetype": "text/x-python",
   "name": "python",
   "nbconvert_exporter": "python",
   "pygments_lexer": "ipython3",
   "version": "3.5.2"
  }
 },
 "nbformat": 4,
 "nbformat_minor": 1
}
